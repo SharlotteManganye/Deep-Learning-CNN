{
  "nbformat": 4,
  "nbformat_minor": 0,
  "metadata": {
    "colab": {
      "provenance": [],
      "gpuType": "T4",
      "authorship_tag": "ABX9TyN37sWz3yOV7W/wSQRoKfvl",
      "include_colab_link": true
    },
    "kernelspec": {
      "name": "python3",
      "display_name": "Python 3"
    },
    "language_info": {
      "name": "python"
    },
    "accelerator": "GPU"
  },
  "cells": [
    {
      "cell_type": "markdown",
      "metadata": {
        "id": "view-in-github",
        "colab_type": "text"
      },
      "source": [
        "<a href=\"https://colab.research.google.com/github/SharlotteManganye/Deep-Learning-CNN/blob/main/Pi_CNN.ipynb\" target=\"_parent\"><img src=\"https://colab.research.google.com/assets/colab-badge.svg\" alt=\"Open In Colab\"/></a>"
      ]
    },
    {
      "cell_type": "code",
      "source": [
        "\n",
        "# visualization tools\n",
        "import matplotlib.pyplot as plt\n",
        "\n",
        "# torch- Our deep learning framework\n",
        "import torch\n",
        "import torch.nn as nn\n",
        "from torchvision import datasets\n",
        "from torchvision.transforms import ToTensor\n",
        "from torch.utils.data import DataLoader\n",
        "from torch import optim\n",
        "\n",
        "# from other notebooks\n",
        "# import import_ipynb\n",
        "# from dataloaders import DataLoader"
      ],
      "metadata": {
        "id": "Qt5DblrsZKLw"
      },
      "execution_count": 1,
      "outputs": []
    },
    {
      "cell_type": "code",
      "source": [
        "# load MNIST dataset both train and test\n",
        "train_data = datasets.MNIST(\n",
        "    root = 'data',\n",
        "    train = True,\n",
        "    transform = ToTensor(),\n",
        "    download = True,\n",
        ")\n",
        "test_data = datasets.MNIST(\n",
        "    root = 'data',\n",
        "    train = False,\n",
        "    transform = ToTensor()\n",
        ")"
      ],
      "metadata": {
        "id": "NDyXd43HZHXz",
        "outputId": "f1bd78e6-460a-49de-f6c5-ec75ec281d9b",
        "colab": {
          "base_uri": "https://localhost:8080/"
        }
      },
      "execution_count": 2,
      "outputs": [
        {
          "output_type": "stream",
          "name": "stdout",
          "text": [
            "Downloading http://yann.lecun.com/exdb/mnist/train-images-idx3-ubyte.gz\n",
            "Failed to download (trying next):\n",
            "HTTP Error 403: Forbidden\n",
            "\n",
            "Downloading https://ossci-datasets.s3.amazonaws.com/mnist/train-images-idx3-ubyte.gz\n",
            "Downloading https://ossci-datasets.s3.amazonaws.com/mnist/train-images-idx3-ubyte.gz to data/MNIST/raw/train-images-idx3-ubyte.gz\n"
          ]
        },
        {
          "output_type": "stream",
          "name": "stderr",
          "text": [
            "100%|██████████| 9912422/9912422 [00:00<00:00, 51124738.84it/s]\n"
          ]
        },
        {
          "output_type": "stream",
          "name": "stdout",
          "text": [
            "Extracting data/MNIST/raw/train-images-idx3-ubyte.gz to data/MNIST/raw\n",
            "\n",
            "Downloading http://yann.lecun.com/exdb/mnist/train-labels-idx1-ubyte.gz\n",
            "Failed to download (trying next):\n",
            "HTTP Error 403: Forbidden\n",
            "\n",
            "Downloading https://ossci-datasets.s3.amazonaws.com/mnist/train-labels-idx1-ubyte.gz\n",
            "Downloading https://ossci-datasets.s3.amazonaws.com/mnist/train-labels-idx1-ubyte.gz to data/MNIST/raw/train-labels-idx1-ubyte.gz\n"
          ]
        },
        {
          "output_type": "stream",
          "name": "stderr",
          "text": [
            "100%|██████████| 28881/28881 [00:00<00:00, 56978219.11it/s]"
          ]
        },
        {
          "output_type": "stream",
          "name": "stdout",
          "text": [
            "Extracting data/MNIST/raw/train-labels-idx1-ubyte.gz to data/MNIST/raw\n",
            "\n",
            "Downloading http://yann.lecun.com/exdb/mnist/t10k-images-idx3-ubyte.gz\n"
          ]
        },
        {
          "output_type": "stream",
          "name": "stderr",
          "text": [
            "\n"
          ]
        },
        {
          "output_type": "stream",
          "name": "stdout",
          "text": [
            "Failed to download (trying next):\n",
            "HTTP Error 403: Forbidden\n",
            "\n",
            "Downloading https://ossci-datasets.s3.amazonaws.com/mnist/t10k-images-idx3-ubyte.gz\n",
            "Downloading https://ossci-datasets.s3.amazonaws.com/mnist/t10k-images-idx3-ubyte.gz to data/MNIST/raw/t10k-images-idx3-ubyte.gz\n"
          ]
        },
        {
          "output_type": "stream",
          "name": "stderr",
          "text": [
            "100%|██████████| 1648877/1648877 [00:00<00:00, 52978285.89it/s]\n"
          ]
        },
        {
          "output_type": "stream",
          "name": "stdout",
          "text": [
            "Extracting data/MNIST/raw/t10k-images-idx3-ubyte.gz to data/MNIST/raw\n",
            "\n",
            "Downloading http://yann.lecun.com/exdb/mnist/t10k-labels-idx1-ubyte.gz\n",
            "Failed to download (trying next):\n",
            "HTTP Error 403: Forbidden\n",
            "\n",
            "Downloading https://ossci-datasets.s3.amazonaws.com/mnist/t10k-labels-idx1-ubyte.gz\n",
            "Downloading https://ossci-datasets.s3.amazonaws.com/mnist/t10k-labels-idx1-ubyte.gz to data/MNIST/raw/t10k-labels-idx1-ubyte.gz\n"
          ]
        },
        {
          "output_type": "stream",
          "name": "stderr",
          "text": [
            "100%|██████████| 4542/4542 [00:00<00:00, 10214760.73it/s]"
          ]
        },
        {
          "output_type": "stream",
          "name": "stdout",
          "text": [
            "Extracting data/MNIST/raw/t10k-labels-idx1-ubyte.gz to data/MNIST/raw\n",
            "\n"
          ]
        },
        {
          "output_type": "stream",
          "name": "stderr",
          "text": [
            "\n"
          ]
        }
      ]
    },
    {
      "cell_type": "code",
      "source": [
        "train_loader = torch.utils.data.DataLoader(train_data,\n",
        "                                          batch_size=100,\n",
        "                                          shuffle=True,\n",
        "                                          num_workers=1)\n",
        "\n",
        "test_loader = torch.utils.data.DataLoader(test_data,\n",
        "                                          batch_size=100,\n",
        "                                          shuffle=True,\n",
        "                                          num_workers=1)"
      ],
      "metadata": {
        "id": "9MCLLjq0Zay8"
      },
      "execution_count": 3,
      "outputs": []
    },
    {
      "cell_type": "code",
      "execution_count": 4,
      "metadata": {
        "id": "M4yDT4C1-gvb"
      },
      "outputs": [],
      "source": [
        "import torch\n",
        "import torch.nn as nn\n",
        "import torch.nn.functional as F\n",
        "import math\n",
        "\n",
        "class PiCon2D(nn.Module):\n",
        "    def __init__(self, in_channels, out_channels, kernel_size=3, stride=1, padding=0, bias=True):\n",
        "        super(PiCon2D, self).__init__()\n",
        "        self.kernel_size = (kernel_size, kernel_size)\n",
        "        self.in_channels = in_channels\n",
        "        self.out_channels = out_channels\n",
        "        self.stride = stride\n",
        "        self.padding = padding\n",
        "\n",
        "        # Initialize weights and biases\n",
        "        self.weight = nn.Parameter(torch.Tensor(out_channels, in_channels, kernel_size, kernel_size))\n",
        "        self.bias = nn.Parameter(torch.zeros(out_channels)) if bias else None\n",
        "\n",
        "        # Weight and bias initialization\n",
        "        nn.init.kaiming_uniform_(self.weight, a=math.sqrt(5))\n",
        "        if self.bias is not None:\n",
        "            fan_in, _ = nn.init._calculate_fan_in_and_fan_out(self.weight)\n",
        "            bound = 1 / math.sqrt(fan_in)\n",
        "            nn.init.uniform_(self.bias, -bound, bound)\n",
        "\n",
        "    def pi_conv2d(self, input, weight, bias=None, stride=1, padding=0):\n",
        "        \"\"\"\n",
        "        Function to process an input with a custom convolution.\n",
        "        \"\"\"\n",
        "        batch_size, in_channels, in_h, in_w = input.shape\n",
        "        out_channels, _, kh, kw = weight.shape\n",
        "\n",
        "        # Calculate output dimensions\n",
        "        out_h = (in_h + 2 * padding - kh) // stride + 1\n",
        "        out_w = (in_w + 2 * padding - kw) // stride + 1\n",
        "\n",
        "        # Unfold input tensor\n",
        "        unfold = torch.nn.Unfold(kernel_size=(kh, kw), stride=stride, padding=padding)\n",
        "        inp_unf = unfold(input)\n",
        "\n",
        "        # Reshape weight for matrix multiplication\n",
        "        w_ = weight.view(out_channels, -1).t()\n",
        "\n",
        "        # Perform convolution\n",
        "        if bias is None:\n",
        "            out_unf = torch.exp(torch.log(torch.abs(inp_unf.transpose(1, 2))).matmul(w_).transpose(1, 2))\n",
        "        else:\n",
        "            out_unf = (inp_unf.transpose(1, 2).matmul(w_) + bias).transpose(1, 2)\n",
        "\n",
        "        # Reshape output tensor\n",
        "        out = out_unf.view(batch_size, out_channels, out_h, out_w)\n",
        "        return out\n",
        "\n",
        "    def forward(self, x):\n",
        "        x = self.pi_conv2d(x, self.weight, self.bias, self.stride, self.padding)  # Feature extraction\n",
        "        x = x.reshape(x.size(0), -1)  # Flatten the inputs\n",
        "\n",
        "        # Dynamically calculate the input features for the fully connected layer\n",
        "        in_features = x.size(1)\n",
        "        fc = nn.Sequential(\n",
        "            nn.Linear(in_features, 128),  # in_features is dynamically set\n",
        "            nn.ReLU(),\n",
        "            nn.Linear(128, 10)  # Output size is 10 for 10 classes (digits 0-9)\n",
        "        )\n",
        "\n",
        "        x = fc(x)  # Fully connected layers\n",
        "        return F.log_softmax(x, dim=1)  # Softmax activation for classification\n",
        "\n"
      ]
    },
    {
      "cell_type": "code",
      "source": [
        "model = PiCon2D(1,32)"
      ],
      "metadata": {
        "id": "eHHXqM7uYOlr"
      },
      "execution_count": 5,
      "outputs": []
    },
    {
      "cell_type": "code",
      "source": [
        "# loss function\n",
        "loss_func = nn.CrossEntropyLoss()"
      ],
      "metadata": {
        "id": "HDxn3tmPYGf5"
      },
      "execution_count": 6,
      "outputs": []
    },
    {
      "cell_type": "code",
      "source": [
        "# Adam optimizer\n",
        "optimizer = optim.Adam(model.parameters(), lr = 1e-3)"
      ],
      "metadata": {
        "id": "mRLpzbZOYgE5"
      },
      "execution_count": 7,
      "outputs": []
    },
    {
      "cell_type": "code",
      "source": [
        "def train(epoch):\n",
        "    model.train()\n",
        "    train_loss = 0\n",
        "    train_acc = 0\n",
        "\n",
        "    for batch_idx, (data, target) in enumerate(train_loader):\n",
        "        optimizer.zero_grad()\n",
        "        data, target = data, target\n",
        "\n",
        "        output = model(data)\n",
        "\n",
        "        # Ensure output shape: [batch_size, num_classes]\n",
        "        # Ensure target shape: [batch_size] with class indices\n",
        "\n",
        "        # Calculate loss\n",
        "        loss = loss_func(output, target)\n",
        "        loss.backward()\n",
        "        optimizer.step()\n",
        "\n",
        "        train_loss += loss.item()\n",
        "\n",
        "        # Calculate accuracy\n",
        "        _, pred = output.max(1)  # Get the predicted class\n",
        "        train_acc += target.eq(pred).sum().item()\n",
        "\n",
        "    train_loss /= len(train_loader)\n",
        "    train_acc /= len(train_loader.dataset)  # Correctly normalize accuracy\n",
        "\n",
        "    return train_loss, train_acc * 100  # Convert accuracy to percentage\n"
      ],
      "metadata": {
        "id": "ftCltD34Yk_E"
      },
      "execution_count": 8,
      "outputs": []
    },
    {
      "cell_type": "code",
      "source": [
        "def val():\n",
        "    # setting model in evaluation mode.\n",
        "    model.eval()\n",
        "\n",
        "    val_loss = 0\n",
        "    val_acc = 0\n",
        "\n",
        "    # no gradient is needed\n",
        "    # when calling a PyTorch neural network to compute output during TRAINING, you should NEVER use the no_grad() statement,\n",
        "    # but when NOT TRAINING, using the no_grad() statement is optional but more principled.\n",
        "    with torch.no_grad():\n",
        "        for batch_idx, (data, target) in enumerate(test_loader):\n",
        "\n",
        "            #FP\n",
        "            output = model(data.float())\n",
        "\n",
        "            # loss\n",
        "            val_loss += loss_func(output, target).item()\n",
        "            _, pred = output.max(1)\n",
        "            val_acc += target.eq(pred).sum().item()\n",
        "\n",
        "    val_loss /= (batch_idx + 1) # Average per batch\n",
        "    val_acc /= len(test_loader.dataset)\n",
        "    return val_loss, val_acc"
      ],
      "metadata": {
        "id": "lbZh0lYdYqeE"
      },
      "execution_count": 9,
      "outputs": []
    },
    {
      "cell_type": "code",
      "source": [
        "loss_list = []\n",
        "val_loss_list = []\n",
        "\n",
        "acc_list = []\n",
        "val_acc_list = []\n",
        "\n",
        "epochs = 10\n",
        "for epoch in range(1, epochs + 1):\n",
        "    print(\"--- Epoch {} ---\".format(epoch))\n",
        "\n",
        "    train_loss, train_acc = train(epoch)\n",
        "    print('\\tTrain loss: {:.4f}, acc: {:.4f}%'.format(train_loss, train_acc))\n",
        "    loss_list.append(train_loss)\n",
        "    acc_list.append(train_acc)\n",
        "\n",
        "    val_loss, val_acc =  val()\n",
        "    print('\\tVal loss: {:.4f}, acc: {:.4f}%'.format(val_loss, val_acc))\n",
        "    val_loss_list.append(val_loss)\n",
        "    val_acc_list.append(val_acc)"
      ],
      "metadata": {
        "id": "0v9FDUfAYtal",
        "outputId": "36fcebeb-1a18-43fc-8ed5-b88895030360",
        "colab": {
          "base_uri": "https://localhost:8080/"
        }
      },
      "execution_count": 10,
      "outputs": [
        {
          "output_type": "stream",
          "name": "stdout",
          "text": [
            "--- Epoch 1 ---\n",
            "\tTrain loss: 2.3055, acc: 10.1350%\n",
            "\tVal loss: 2.3050, acc: 0.0980%\n",
            "--- Epoch 2 ---\n",
            "\tTrain loss: 2.3052, acc: 9.8367%\n",
            "\tVal loss: 2.3038, acc: 0.1060%\n",
            "--- Epoch 3 ---\n",
            "\tTrain loss: 2.3044, acc: 10.3883%\n",
            "\tVal loss: 2.3055, acc: 0.0990%\n",
            "--- Epoch 4 ---\n",
            "\tTrain loss: 2.3046, acc: 9.9700%\n",
            "\tVal loss: 2.3045, acc: 0.1042%\n",
            "--- Epoch 5 ---\n",
            "\tTrain loss: 2.3042, acc: 10.2267%\n",
            "\tVal loss: 2.3036, acc: 0.1002%\n",
            "--- Epoch 6 ---\n",
            "\tTrain loss: 2.3039, acc: 10.2150%\n",
            "\tVal loss: 2.3036, acc: 0.1015%\n",
            "--- Epoch 7 ---\n",
            "\tTrain loss: 2.3040, acc: 10.2733%\n",
            "\tVal loss: 2.3043, acc: 0.0985%\n",
            "--- Epoch 8 ---\n",
            "\tTrain loss: 2.3043, acc: 9.7800%\n",
            "\tVal loss: 2.3047, acc: 0.0929%\n",
            "--- Epoch 9 ---\n",
            "\tTrain loss: 2.3040, acc: 9.9983%\n",
            "\tVal loss: 2.3049, acc: 0.0958%\n",
            "--- Epoch 10 ---\n",
            "\tTrain loss: 2.3045, acc: 10.0533%\n",
            "\tVal loss: 2.3039, acc: 0.0993%\n"
          ]
        }
      ]
    },
    {
      "cell_type": "code",
      "source": [
        "# plot\n",
        "\n",
        "\n",
        "x = range(1, epochs + 1)\n",
        "\n",
        "plt.figure(figsize=(16, 5))\n",
        "\n",
        "#loss\n",
        "plt.subplot(1,2,1)\n",
        "plt.plot(x, loss_list, 'b', label = 'train')\n",
        "plt.plot(x, val_loss_list, 'r', label = 'val')\n",
        "plt.title('LOSS')\n",
        "plt.xlabel('epochs')\n",
        "plt.ylabel('loss')\n",
        "plt.legend()\n",
        "\n",
        "#Accuracy\n",
        "plt.subplot(1,2,2)\n",
        "plt.plot(x, acc_list, 'b', label = 'train')\n",
        "plt.plot(x, val_acc_list, 'r', label = 'val')\n",
        "plt.title('Accuracy')\n",
        "plt.xlabel('epochs')\n",
        "plt.ylabel('accuracy')\n",
        "plt.legend()\n",
        "plt.show()"
      ],
      "metadata": {
        "id": "9B4Jsf87X7QK",
        "outputId": "ca76194a-3a32-4107-fac6-ee3e5c467492",
        "colab": {
          "base_uri": "https://localhost:8080/",
          "height": 421
        }
      },
      "execution_count": 11,
      "outputs": [
        {
          "output_type": "display_data",
          "data": {
            "text/plain": [
              "<Figure size 1600x500 with 2 Axes>"
            ],
            "image/png": "[encoded data removed]"
          },
          "metadata": {}
        }
      ]
    }
  ]
}