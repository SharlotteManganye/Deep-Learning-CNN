{
  "nbformat": 4,
  "nbformat_minor": 0,
  "metadata": {
    "colab": {
      "provenance": [],
      "gpuType": "T4",
      "authorship_tag": "ABX9TyM/1nf6pDhSAHD7xjqr6Hw8",
      "include_colab_link": true
    },
    "kernelspec": {
      "name": "python3",
      "display_name": "Python 3"
    },
    "language_info": {
      "name": "python"
    },
    "accelerator": "GPU"
  },
  "cells": [
    {
      "cell_type": "markdown",
      "metadata": {
        "id": "view-in-github",
        "colab_type": "text"
      },
      "source": [
        "<a href=\"https://colab.research.google.com/github/SharlotteManganye/Deep-Learning-CNN/blob/main/Pi_Sigma_CNN.ipynb\" target=\"_parent\"><img src=\"https://colab.research.google.com/assets/colab-badge.svg\" alt=\"Open In Colab\"/></a>"
      ]
    },
    {
      "cell_type": "code",
      "source": [
        "\n",
        "# visualization tools\n",
        "import matplotlib.pyplot as plt\n",
        "\n",
        "# torch- Our deep learning framework\n",
        "import torch\n",
        "import torch.nn as nn\n",
        "from torchvision import datasets\n",
        "from torchvision.transforms import ToTensor\n",
        "from torch.utils.data import DataLoader\n",
        "from torch import optim\n",
        "\n",
        "# from other notebooks\n",
        "# import import_ipynb\n",
        "# from dataloaders import DataLoader"
      ],
      "metadata": {
        "id": "Qt5DblrsZKLw"
      },
      "execution_count": null,
      "outputs": []
    },
    {
      "cell_type": "code",
      "source": [
        "# load MNIST dataset both train and test\n",
        "train_data = datasets.MNIST(\n",
        "    root = 'data',\n",
        "    train = True,\n",
        "    transform = ToTensor(),\n",
        "    download = True,\n",
        ")\n",
        "test_data = datasets.MNIST(\n",
        "    root = 'data',\n",
        "    train = False,\n",
        "    transform = ToTensor()\n",
        ")"
      ],
      "metadata": {
        "id": "NDyXd43HZHXz"
      },
      "execution_count": null,
      "outputs": []
    },
    {
      "cell_type": "code",
      "source": [
        "train_loader = torch.utils.data.DataLoader(train_data,\n",
        "                                          batch_size=100,\n",
        "                                          shuffle=True,\n",
        "                                          num_workers=1)\n",
        "\n",
        "test_loader = torch.utils.data.DataLoader(test_data,\n",
        "                                          batch_size=100,\n",
        "                                          shuffle=True,\n",
        "                                          num_workers=1)"
      ],
      "metadata": {
        "id": "9MCLLjq0Zay8"
      },
      "execution_count": null,
      "outputs": []
    },
    {
      "cell_type": "code",
      "execution_count": 1,
      "metadata": {
        "colab": {
          "base_uri": "https://localhost:8080/"
        },
        "id": "M4yDT4C1-gvb",
        "outputId": "cca2d086-3dc7-4fae-b9a7-fa3cfd5e4053"
      },
      "outputs": [
        {
          "output_type": "stream",
          "name": "stderr",
          "text": [
            "<>:22: SyntaxWarning: \"is not\" with a literal. Did you mean \"!=\"?\n",
            "<>:22: SyntaxWarning: \"is not\" with a literal. Did you mean \"!=\"?\n",
            "<ipython-input-1-9389bf790639>:22: SyntaxWarning: \"is not\" with a literal. Did you mean \"!=\"?\n",
            "  if self.bias is not 0:\n"
          ]
        }
      ],
      "source": [
        "\n",
        "\n",
        "class PiSigmaCon2d(nn.Module):\n",
        "\n",
        "    def __init__(self, in_channel, out_channel, kernel_size=3, stride=1, padding=0, bias=True):\n",
        "        super(PiSigmaCon2d, self).__init__()\n",
        "        self.k = kernel_size\n",
        "        self.in_c = in_channel\n",
        "        self.out_c = out_channel\n",
        "        self.stride = stride\n",
        "        self.padding = padding\n",
        "        # Weights and Bias\n",
        "        self.weight = nn.Parameter(torch.Tensor(self.out_channels, self.out_channels, *self.kernel_size))\n",
        "        self.bias   = nn.Parameter(torch.zeros(self.out_channels)) if bias else 0\n",
        "\n",
        "        # Weights and Bias initialization\n",
        "        nn.init.kaiming_uniform_(self.weight, a=math.sqrt(5))\n",
        "        if self.bias is not 0:\n",
        "            fan_in, _ = nn.init._calculate_fan_in_and_fan_out(self.weight)\n",
        "            bound = 1 / math.sqrt(fan_in)\n",
        "            nn.init.uniform_(self.bias, -bound, bound)\n",
        "\n",
        "        def conv2d(input, weight, bias=None, stride=(1,1), padding=(0,0), dilation=(1,1), groups=1):\n",
        "\n",
        "            \"\"\"\n",
        "            Function to process an input with a standard convolution\n",
        "            \"\"\"\n",
        "            batch_size, in_channels, in_h, in_w = input.shape\n",
        "            out_channels, in_channels, kh, kw = weight.shape\n",
        "            out_h = int((in_h - kh + 2 * padding[0]) / stride[0] + 1)\n",
        "            out_w = int((in_w - kw + 2 * padding[1]) / stride[1] + 1)\n",
        "            unfold = torch.nn.Unfold(kernel_size=(kh, kw), dilation=dilation, padding=padding, stride=stride)\n",
        "            inp_unf = unfold(input)\n",
        "            w_ =  self.weight.view(weight.size(0), -1).t()\n",
        "\n",
        "#         calculate conv output\n",
        "            if bias is None:\n",
        "                out_unf = torch.exp(torch.log(torch.abs(inp_unf.transpose(1, 2))).matmul(w_).transpose(1, 2))\n",
        "            else:\n",
        "                out_unf = (inp_unf.transpose(1, 2).matmul(w_) + bias).transpose(1, 2)\n",
        "            out = out_unf.view(batch_size, out_channels, out_h, out_w)\n",
        "            return out.float()\n",
        "\n"
      ]
    },
    {
      "cell_type": "code",
      "source": [
        "model = PiSigmaCon2d()"
      ],
      "metadata": {
        "id": "eHHXqM7uYOlr"
      },
      "execution_count": null,
      "outputs": []
    },
    {
      "cell_type": "code",
      "source": [
        "# loss function\n",
        "loss_func = nn.CrossEntropyLoss()"
      ],
      "metadata": {
        "id": "HDxn3tmPYGf5"
      },
      "execution_count": null,
      "outputs": []
    },
    {
      "cell_type": "code",
      "source": [
        "# Adam optimizer\n",
        "optimizer = optim.Adam(model.parameters(), lr = 1e-3)"
      ],
      "metadata": {
        "id": "mRLpzbZOYgE5"
      },
      "execution_count": null,
      "outputs": []
    },
    {
      "cell_type": "code",
      "source": [
        "def train(epoch):\n",
        "\n",
        "    # Setting model in training mode.\n",
        "    model.train()\n",
        "\n",
        "    train_loss = 0\n",
        "    train_acc = 0\n",
        "\n",
        "    for batch_idx, (data, target) in enumerate(train_loader):\n",
        "        #clear gradient\n",
        "        optimizer.zero_grad()\n",
        "\n",
        "        #FP (make a prediction)\n",
        "        output = model(data.float())\n",
        "\n",
        "        # calculating the loss\n",
        "        loss = loss_func(output, target)\n",
        "\n",
        "        #BP, Computing the gradient of the loss w.r.t the parameters of the model\n",
        "        loss.backward()\n",
        "\n",
        "        # a single step of optimization, update parameters\n",
        "        optimizer.step()\n",
        "\n",
        "        train_loss += loss.item()\n",
        "\n",
        "        _, pred = output.max(1)\n",
        "        train_acc += target.eq(pred).sum().item()\n",
        "\n",
        "    train_acc /= len(train_loader.dataset)\n",
        "    train_loss /= (batch_idx + 1) # Average per batch\n",
        "\n",
        "    return train_loss, train_acc"
      ],
      "metadata": {
        "id": "ftCltD34Yk_E"
      },
      "execution_count": null,
      "outputs": []
    },
    {
      "cell_type": "code",
      "source": [
        "def val():\n",
        "    # setting model in evaluation mode.\n",
        "    model.eval()\n",
        "\n",
        "    val_loss = 0\n",
        "    val_acc = 0\n",
        "\n",
        "    # no gradient is needed\n",
        "    # when calling a PyTorch neural network to compute output during TRAINING, you should NEVER use the no_grad() statement,\n",
        "    # but when NOT TRAINING, using the no_grad() statement is optional but more principled.\n",
        "    with torch.no_grad():\n",
        "        for batch_idx, (data, target) in enumerate(test_loader):\n",
        "\n",
        "            #FP\n",
        "            output = model(data.float())\n",
        "\n",
        "            # loss\n",
        "            val_loss += loss_func(output, target).item()\n",
        "            _, pred = output.max(1)\n",
        "            val_acc += target.eq(pred).sum().item()\n",
        "\n",
        "    val_loss /= (batch_idx + 1) # Average per batch\n",
        "    val_acc /= len(test_loader.dataset)\n",
        "    return val_loss, val_acc"
      ],
      "metadata": {
        "id": "lbZh0lYdYqeE"
      },
      "execution_count": null,
      "outputs": []
    },
    {
      "cell_type": "code",
      "source": [
        "loss_list = []\n",
        "val_loss_list = []\n",
        "\n",
        "acc_list = []\n",
        "val_acc_list = []\n",
        "\n",
        "epochs = 10\n",
        "for epoch in range(1, epochs + 1):\n",
        "    print(\"--- Epoch {} ---\".format(epoch))\n",
        "\n",
        "    train_loss, train_acc = train(epoch)\n",
        "    print('\\tTrain loss: {:.4f}, acc: {:.4f}%'.format(train_loss, train_acc))\n",
        "    loss_list.append(train_loss)\n",
        "    acc_list.append(train_acc)\n",
        "\n",
        "    val_loss, val_acc =  val()\n",
        "    print('\\tVal loss: {:.4f}, acc: {:.4f}%'.format(val_loss, val_acc))\n",
        "    val_loss_list.append(val_loss)\n",
        "    val_acc_list.append(val_acc)"
      ],
      "metadata": {
        "id": "0v9FDUfAYtal"
      },
      "execution_count": null,
      "outputs": []
    }
  ]
}