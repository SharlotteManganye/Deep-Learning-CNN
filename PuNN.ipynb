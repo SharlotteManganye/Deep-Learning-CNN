{
  "nbformat": 4,
  "nbformat_minor": 0,
  "metadata": {
    "colab": {
      "provenance": [],
      "gpuType": "T4",
      "authorship_tag": "ABX9TyOe5OiB4irge4Awy3kLakzm",
      "include_colab_link": true
    },
    "kernelspec": {
      "name": "python3",
      "display_name": "Python 3"
    },
    "language_info": {
      "name": "python"
    },
    "accelerator": "GPU"
  },
  "cells": [
    {
      "cell_type": "markdown",
      "metadata": {
        "id": "view-in-github",
        "colab_type": "text"
      },
      "source": [
        "<a href=\"https://colab.research.google.com/github/SharlotteManganye/Deep-Learning-CNN/blob/main/PuNN.ipynb\" target=\"_parent\"><img src=\"https://colab.research.google.com/assets/colab-badge.svg\" alt=\"Open In Colab\"/></a>"
      ]
    },
    {
      "cell_type": "code",
      "source": [
        "import torch\n",
        "import torch.nn as nn\n",
        "import torch.optim as optim\n",
        "from torch.utils.data import DataLoader\n",
        "from torchvision import datasets, transforms\n",
        "import matplotlib.pyplot as plt\n",
        "\n",
        "class ProductUnitNN(nn.Module):\n",
        "    def __init__(self, input_dim, hid_dim, output_dim):\n",
        "        super(ProductUnitNN, self).__init__()\n",
        "        self.input_dim = input_dim\n",
        "        self.hid_dim = hid_dim\n",
        "        self.output_dim = output_dim\n",
        "\n",
        "        # Initialize weights\n",
        "        self.w1 = nn.Parameter(torch.randn(input_dim, hid_dim), requires_grad=True)\n",
        "        self.w2 = nn.Parameter(torch.randn(hid_dim, output_dim), requires_grad=True)\n",
        "        self.bias = nn.Parameter(torch.ones(output_dim) * -1, requires_grad=True)\n",
        "\n",
        "    def forward(self, x):\n",
        "        # Adjust net_sig computation\n",
        "        net_sig = torch.zeros((x.size(0), self.hid_dim), device=x.device)\n",
        "        for i in range(self.input_dim):\n",
        "            condition = x[:, i].unsqueeze(1) != 0\n",
        "            values_to_add = torch.sum(self.w1 * torch.log(torch.abs(x.unsqueeze(2) - 1)), dim=1)\n",
        "            # Expand condition to match net_sig's shape for broadcasting\n",
        "            condition = condition.expand_as(net_sig)  # Becomes (batch_size, hid_dim)\n",
        "            net_sig = torch.where(condition, values_to_add, net_sig)\n",
        "        z = net_sig @ self.w2 + self.bias\n",
        "        return z\n",
        "\n",
        "# Training settings\n",
        "batch_size = 64\n",
        "learning_rate = 0.001\n",
        "epochs = 10\n",
        "\n",
        "# MNIST dataset\n",
        "transform = transforms.Compose([transforms.ToTensor(), transforms.Normalize((0.1307,), (0.3081,))])\n",
        "train_dataset = datasets.MNIST(root='./data', train=True, transform=transform, download=True)\n",
        "test_dataset = datasets.MNIST(root='./data', train=False, transform=transform)\n",
        "\n",
        "train_loader = DataLoader(dataset=train_dataset, batch_size=batch_size, shuffle=True)\n",
        "test_loader = DataLoader(dataset=test_dataset, batch_size=batch_size, shuffle=False)\n",
        "\n",
        "# Model, loss function, optimizer\n",
        "input_dim = 784  # 28x28 images flattened\n",
        "hid_dim = 100    # Example hidden dimension\n",
        "output_dim = 10  # 10 classes for MNIST\n",
        "\n",
        "device = torch.device('cuda' if torch.cuda.is_available() else 'cpu')\n",
        "\n",
        "model = ProductUnitNN(input_dim, hid_dim, output_dim)\n",
        "model.to(device)\n",
        "criterion = nn.CrossEntropyLoss()\n",
        "optimizer = optim.Adam(model.parameters(), lr=learning_rate)\n",
        "\n",
        "# Store gradient norms\n",
        "grad_norms = {name: [] for name, param in model.named_parameters()}\n",
        "\n",
        "# Training the model\n",
        "def train(model, device, train_loader, optimizer, epoch):\n",
        "    model.train()\n",
        "    for batch_idx, (data, target) in enumerate(train_loader):\n",
        "        data, target = data.view(-1, input_dim).to(device), target.to(device)\n",
        "        optimizer.zero_grad()\n",
        "        output = model(data)\n",
        "        loss = criterion(output, target)\n",
        "        loss.backward()\n",
        "\n",
        "        # Calculate and store gradient norms\n",
        "        for name, param in model.named_parameters():\n",
        "            if param.grad is not None:\n",
        "                grad_norms[name].append(param.grad.norm().item())\n",
        "\n",
        "        optimizer.step()\n",
        "        if batch_idx % 100 == 0:\n",
        "            print(f'Train Epoch: {epoch} [{batch_idx * len(data)}/{len(train_loader.dataset)} '\n",
        "                  f'({100. * batch_idx / len(train_loader):.0f}%)]\\tLoss: {loss.item():.6f}')\n",
        "\n",
        "# Testing the model\n",
        "def test(model, device, test_loader):\n",
        "    model.eval()\n",
        "    test_loss = 0\n",
        "    correct = 0\n",
        "    with torch.no_grad():\n",
        "        for data, target in test_loader:\n",
        "            data, target = data.view(-1, input_dim).to(device), target.to(device)\n",
        "            output = model(data)\n",
        "            test_loss += criterion(output, target).item()  # sum up batch loss\n",
        "            pred = output.argmax(dim=1, keepdim=True)  # get the index of the max log-probability\n",
        "            correct += pred.eq(target.view_as(pred)).sum().item()\n",
        "\n",
        "    test_loss /= len(test_loader.dataset)\n",
        "    print(f'\\nTest set: Average loss: {test_loss:.4f}, Accuracy: {correct}/{len(test_loader.dataset)} '\n",
        "          f'({100. * correct / len(test_loader.dataset):.0f}%)\\n')\n",
        "\n",
        "for epoch in range(1, epochs + 1):\n",
        "    train(model, device, train_loader, optimizer, epoch)\n",
        "    test(model, device, test_loader)\n",
        "\n",
        "# Plot gradient norms\n",
        "for name, norms in grad_norms.items():\n",
        "    plt.plot(norms, label=name)\n",
        "plt.xlabel('Batch number')\n",
        "plt.ylabel('Gradient norm')\n",
        "plt.legend()\n",
        "plt.show()\n"
      ],
      "metadata": {
        "colab": {
          "base_uri": "https://localhost:8080/",
          "height": 1000
        },
        "id": "hmeamQS9EVHu",
        "outputId": "830955d3-6f88-4a99-a9ef-54247bda88dd"
      },
      "execution_count": 1,
      "outputs": [
        {
          "output_type": "stream",
          "name": "stdout",
          "text": [
            "Downloading http://yann.lecun.com/exdb/mnist/train-images-idx3-ubyte.gz\n",
            "Failed to download (trying next):\n",
            "HTTP Error 403: Forbidden\n",
            "\n",
            "Downloading https://ossci-datasets.s3.amazonaws.com/mnist/train-images-idx3-ubyte.gz\n",
            "Downloading https://ossci-datasets.s3.amazonaws.com/mnist/train-images-idx3-ubyte.gz to ./data/MNIST/raw/train-images-idx3-ubyte.gz\n"
          ]
        },
        {
          "output_type": "stream",
          "name": "stderr",
          "text": [
            "100%|██████████| 9912422/9912422 [00:00<00:00, 56007952.45it/s]\n"
          ]
        },
        {
          "output_type": "stream",
          "name": "stdout",
          "text": [
            "Extracting ./data/MNIST/raw/train-images-idx3-ubyte.gz to ./data/MNIST/raw\n",
            "\n",
            "Downloading http://yann.lecun.com/exdb/mnist/train-labels-idx1-ubyte.gz\n",
            "Failed to download (trying next):\n",
            "HTTP Error 403: Forbidden\n",
            "\n",
            "Downloading https://ossci-datasets.s3.amazonaws.com/mnist/train-labels-idx1-ubyte.gz\n",
            "Downloading https://ossci-datasets.s3.amazonaws.com/mnist/train-labels-idx1-ubyte.gz to ./data/MNIST/raw/train-labels-idx1-ubyte.gz\n"
          ]
        },
        {
          "output_type": "stream",
          "name": "stderr",
          "text": [
            "100%|██████████| 28881/28881 [00:00<00:00, 1921934.60it/s]\n"
          ]
        },
        {
          "output_type": "stream",
          "name": "stdout",
          "text": [
            "Extracting ./data/MNIST/raw/train-labels-idx1-ubyte.gz to ./data/MNIST/raw\n",
            "\n",
            "Downloading http://yann.lecun.com/exdb/mnist/t10k-images-idx3-ubyte.gz\n",
            "Failed to download (trying next):\n",
            "HTTP Error 403: Forbidden\n",
            "\n",
            "Downloading https://ossci-datasets.s3.amazonaws.com/mnist/t10k-images-idx3-ubyte.gz\n",
            "Downloading https://ossci-datasets.s3.amazonaws.com/mnist/t10k-images-idx3-ubyte.gz to ./data/MNIST/raw/t10k-images-idx3-ubyte.gz\n"
          ]
        },
        {
          "output_type": "stream",
          "name": "stderr",
          "text": [
            "100%|██████████| 1648877/1648877 [00:00<00:00, 14188626.76it/s]\n"
          ]
        },
        {
          "output_type": "stream",
          "name": "stdout",
          "text": [
            "Extracting ./data/MNIST/raw/t10k-images-idx3-ubyte.gz to ./data/MNIST/raw\n",
            "\n",
            "Downloading http://yann.lecun.com/exdb/mnist/t10k-labels-idx1-ubyte.gz\n",
            "Failed to download (trying next):\n",
            "HTTP Error 403: Forbidden\n",
            "\n",
            "Downloading https://ossci-datasets.s3.amazonaws.com/mnist/t10k-labels-idx1-ubyte.gz\n",
            "Downloading https://ossci-datasets.s3.amazonaws.com/mnist/t10k-labels-idx1-ubyte.gz to ./data/MNIST/raw/t10k-labels-idx1-ubyte.gz\n"
          ]
        },
        {
          "output_type": "stream",
          "name": "stderr",
          "text": [
            "100%|██████████| 4542/4542 [00:00<00:00, 9185404.42it/s]"
          ]
        },
        {
          "output_type": "stream",
          "name": "stdout",
          "text": [
            "Extracting ./data/MNIST/raw/t10k-labels-idx1-ubyte.gz to ./data/MNIST/raw\n",
            "\n"
          ]
        },
        {
          "output_type": "stream",
          "name": "stderr",
          "text": [
            "\n"
          ]
        },
        {
          "output_type": "stream",
          "name": "stdout",
          "text": [
            "Train Epoch: 1 [0/60000 (0%)]\tLoss: 193.322174\n",
            "Train Epoch: 1 [6400/60000 (11%)]\tLoss: 156.622147\n",
            "Train Epoch: 1 [12800/60000 (21%)]\tLoss: 128.860535\n",
            "Train Epoch: 1 [19200/60000 (32%)]\tLoss: 80.333931\n",
            "Train Epoch: 1 [25600/60000 (43%)]\tLoss: 70.307762\n",
            "Train Epoch: 1 [32000/60000 (53%)]\tLoss: 66.385307\n",
            "Train Epoch: 1 [38400/60000 (64%)]\tLoss: 65.393265\n",
            "Train Epoch: 1 [44800/60000 (75%)]\tLoss: 41.365257\n",
            "Train Epoch: 1 [51200/60000 (85%)]\tLoss: 33.658192\n",
            "Train Epoch: 1 [57600/60000 (96%)]\tLoss: 49.794018\n",
            "\n",
            "Test set: Average loss: 0.6349, Accuracy: 4123/10000 (41%)\n",
            "\n",
            "Train Epoch: 2 [0/60000 (0%)]\tLoss: 41.793713\n",
            "Train Epoch: 2 [6400/60000 (11%)]\tLoss: 32.156754\n",
            "Train Epoch: 2 [12800/60000 (21%)]\tLoss: 26.329891\n",
            "Train Epoch: 2 [19200/60000 (32%)]\tLoss: 29.492214\n",
            "Train Epoch: 2 [25600/60000 (43%)]\tLoss: 28.899853\n",
            "Train Epoch: 2 [32000/60000 (53%)]\tLoss: 31.208221\n",
            "Train Epoch: 2 [38400/60000 (64%)]\tLoss: 21.180784\n",
            "Train Epoch: 2 [44800/60000 (75%)]\tLoss: 21.822556\n",
            "Train Epoch: 2 [51200/60000 (85%)]\tLoss: 13.267063\n",
            "Train Epoch: 2 [57600/60000 (96%)]\tLoss: 16.947214\n",
            "\n",
            "Test set: Average loss: 0.2693, Accuracy: 5725/10000 (57%)\n",
            "\n",
            "Train Epoch: 3 [0/60000 (0%)]\tLoss: 17.525558\n",
            "Train Epoch: 3 [6400/60000 (11%)]\tLoss: 15.405848\n",
            "Train Epoch: 3 [12800/60000 (21%)]\tLoss: 10.365008\n",
            "Train Epoch: 3 [19200/60000 (32%)]\tLoss: 12.098287\n",
            "Train Epoch: 3 [25600/60000 (43%)]\tLoss: 12.043720\n",
            "Train Epoch: 3 [32000/60000 (53%)]\tLoss: 9.251898\n",
            "Train Epoch: 3 [38400/60000 (64%)]\tLoss: 14.786361\n",
            "Train Epoch: 3 [44800/60000 (75%)]\tLoss: 10.782978\n",
            "Train Epoch: 3 [51200/60000 (85%)]\tLoss: 11.657679\n",
            "Train Epoch: 3 [57600/60000 (96%)]\tLoss: 7.119946\n",
            "\n",
            "Test set: Average loss: 0.1558, Accuracy: 6408/10000 (64%)\n",
            "\n",
            "Train Epoch: 4 [0/60000 (0%)]\tLoss: 7.501925\n",
            "Train Epoch: 4 [6400/60000 (11%)]\tLoss: 12.545825\n",
            "Train Epoch: 4 [12800/60000 (21%)]\tLoss: 11.315638\n",
            "Train Epoch: 4 [19200/60000 (32%)]\tLoss: 11.039168\n",
            "Train Epoch: 4 [25600/60000 (43%)]\tLoss: 4.809171\n",
            "Train Epoch: 4 [32000/60000 (53%)]\tLoss: 7.381679\n",
            "Train Epoch: 4 [38400/60000 (64%)]\tLoss: 7.406361\n",
            "Train Epoch: 4 [44800/60000 (75%)]\tLoss: 9.928860\n",
            "Train Epoch: 4 [51200/60000 (85%)]\tLoss: 6.787492\n",
            "Train Epoch: 4 [57600/60000 (96%)]\tLoss: 6.548758\n",
            "\n",
            "Test set: Average loss: 0.1074, Accuracy: 6608/10000 (66%)\n",
            "\n",
            "Train Epoch: 5 [0/60000 (0%)]\tLoss: 10.036978\n",
            "Train Epoch: 5 [6400/60000 (11%)]\tLoss: 7.127249\n",
            "Train Epoch: 5 [12800/60000 (21%)]\tLoss: 7.700240\n",
            "Train Epoch: 5 [19200/60000 (32%)]\tLoss: 6.091666\n",
            "Train Epoch: 5 [25600/60000 (43%)]\tLoss: 6.891619\n",
            "Train Epoch: 5 [32000/60000 (53%)]\tLoss: 4.867877\n",
            "Train Epoch: 5 [38400/60000 (64%)]\tLoss: 8.636669\n",
            "Train Epoch: 5 [44800/60000 (75%)]\tLoss: 3.011049\n",
            "Train Epoch: 5 [51200/60000 (85%)]\tLoss: 5.779933\n",
            "Train Epoch: 5 [57600/60000 (96%)]\tLoss: 8.205538\n",
            "\n",
            "Test set: Average loss: 0.0828, Accuracy: 6627/10000 (66%)\n",
            "\n",
            "Train Epoch: 6 [0/60000 (0%)]\tLoss: 3.692430\n",
            "Train Epoch: 6 [6400/60000 (11%)]\tLoss: 2.656115\n",
            "Train Epoch: 6 [12800/60000 (21%)]\tLoss: 6.503952\n",
            "Train Epoch: 6 [19200/60000 (32%)]\tLoss: 3.792604\n",
            "Train Epoch: 6 [25600/60000 (43%)]\tLoss: 3.982305\n",
            "Train Epoch: 6 [32000/60000 (53%)]\tLoss: 2.837558\n",
            "Train Epoch: 6 [38400/60000 (64%)]\tLoss: 5.235808\n",
            "Train Epoch: 6 [44800/60000 (75%)]\tLoss: 5.523118\n",
            "Train Epoch: 6 [51200/60000 (85%)]\tLoss: 5.248375\n",
            "Train Epoch: 6 [57600/60000 (96%)]\tLoss: 3.638360\n",
            "\n",
            "Test set: Average loss: 0.0643, Accuracy: 6766/10000 (68%)\n",
            "\n",
            "Train Epoch: 7 [0/60000 (0%)]\tLoss: 3.735348\n",
            "Train Epoch: 7 [6400/60000 (11%)]\tLoss: 2.578611\n",
            "Train Epoch: 7 [12800/60000 (21%)]\tLoss: 2.861077\n",
            "Train Epoch: 7 [19200/60000 (32%)]\tLoss: 3.046880\n",
            "Train Epoch: 7 [25600/60000 (43%)]\tLoss: 3.642548\n",
            "Train Epoch: 7 [32000/60000 (53%)]\tLoss: 5.822732\n",
            "Train Epoch: 7 [38400/60000 (64%)]\tLoss: 3.811630\n",
            "Train Epoch: 7 [44800/60000 (75%)]\tLoss: 3.210188\n",
            "Train Epoch: 7 [51200/60000 (85%)]\tLoss: 5.431344\n",
            "Train Epoch: 7 [57600/60000 (96%)]\tLoss: 4.405692\n",
            "\n",
            "Test set: Average loss: 0.0541, Accuracy: 6765/10000 (68%)\n",
            "\n",
            "Train Epoch: 8 [0/60000 (0%)]\tLoss: 3.464811\n",
            "Train Epoch: 8 [6400/60000 (11%)]\tLoss: 2.618054\n",
            "Train Epoch: 8 [12800/60000 (21%)]\tLoss: 2.723765\n",
            "Train Epoch: 8 [19200/60000 (32%)]\tLoss: 1.747036\n",
            "Train Epoch: 8 [25600/60000 (43%)]\tLoss: 2.959051\n",
            "Train Epoch: 8 [32000/60000 (53%)]\tLoss: 2.065664\n",
            "Train Epoch: 8 [38400/60000 (64%)]\tLoss: 2.766569\n",
            "Train Epoch: 8 [44800/60000 (75%)]\tLoss: 1.779659\n",
            "Train Epoch: 8 [51200/60000 (85%)]\tLoss: 3.394671\n",
            "Train Epoch: 8 [57600/60000 (96%)]\tLoss: 2.738406\n",
            "\n",
            "Test set: Average loss: 0.0478, Accuracy: 6749/10000 (67%)\n",
            "\n",
            "Train Epoch: 9 [0/60000 (0%)]\tLoss: 3.028103\n",
            "Train Epoch: 9 [6400/60000 (11%)]\tLoss: 1.611915\n",
            "Train Epoch: 9 [12800/60000 (21%)]\tLoss: 1.887958\n",
            "Train Epoch: 9 [19200/60000 (32%)]\tLoss: 2.525459\n",
            "Train Epoch: 9 [25600/60000 (43%)]\tLoss: 2.812441\n",
            "Train Epoch: 9 [32000/60000 (53%)]\tLoss: 4.643442\n",
            "Train Epoch: 9 [38400/60000 (64%)]\tLoss: 4.162441\n",
            "Train Epoch: 9 [44800/60000 (75%)]\tLoss: 1.871501\n",
            "Train Epoch: 9 [51200/60000 (85%)]\tLoss: 2.415368\n",
            "Train Epoch: 9 [57600/60000 (96%)]\tLoss: 2.302053\n",
            "\n",
            "Test set: Average loss: 0.0422, Accuracy: 6865/10000 (69%)\n",
            "\n",
            "Train Epoch: 10 [0/60000 (0%)]\tLoss: 1.431143\n",
            "Train Epoch: 10 [6400/60000 (11%)]\tLoss: 1.978770\n",
            "Train Epoch: 10 [12800/60000 (21%)]\tLoss: 3.490266\n",
            "Train Epoch: 10 [19200/60000 (32%)]\tLoss: 3.652096\n",
            "Train Epoch: 10 [25600/60000 (43%)]\tLoss: 1.842608\n",
            "Train Epoch: 10 [32000/60000 (53%)]\tLoss: 2.658002\n",
            "Train Epoch: 10 [38400/60000 (64%)]\tLoss: 2.778552\n",
            "Train Epoch: 10 [44800/60000 (75%)]\tLoss: 3.157689\n",
            "Train Epoch: 10 [51200/60000 (85%)]\tLoss: 2.326344\n",
            "Train Epoch: 10 [57600/60000 (96%)]\tLoss: 2.029800\n",
            "\n",
            "Test set: Average loss: 0.0392, Accuracy: 6827/10000 (68%)\n",
            "\n"
          ]
        },
        {
          "output_type": "display_data",
          "data": {
            "text/plain": [
              "<Figure size 640x480 with 1 Axes>"
            ],
            "image/png": "[encoded data removed]"
          },
          "metadata": {}
        }
      ]
    }
  ]
}